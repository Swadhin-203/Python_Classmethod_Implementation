{
 "cells": [
  {
   "cell_type": "code",
   "execution_count": 1,
   "id": "68273342",
   "metadata": {},
   "outputs": [],
   "source": [
    "class college:\n",
    "    def __init__(self,name,email):\n",
    "        self.name=name\n",
    "        self.email=email\n",
    "    def student_deatails(self):\n",
    "        print(self.name,self.email)"
   ]
  },
  {
   "cell_type": "code",
   "execution_count": 2,
   "id": "34078e34",
   "metadata": {},
   "outputs": [],
   "source": [
    "college=college(\"swadhin\",\"swadhin@gmail.com\")"
   ]
  },
  {
   "cell_type": "code",
   "execution_count": 3,
   "id": "d962f52f",
   "metadata": {},
   "outputs": [
    {
     "data": {
      "text/plain": [
       "'swadhin@gmail.com'"
      ]
     },
     "execution_count": 3,
     "metadata": {},
     "output_type": "execute_result"
    }
   ],
   "source": [
    "college.email"
   ]
  },
  {
   "cell_type": "code",
   "execution_count": 4,
   "id": "b827ad39",
   "metadata": {},
   "outputs": [
    {
     "data": {
      "text/plain": [
       "'swadhin'"
      ]
     },
     "execution_count": 4,
     "metadata": {},
     "output_type": "execute_result"
    }
   ],
   "source": [
    "college.name"
   ]
  },
  {
   "cell_type": "code",
   "execution_count": 6,
   "id": "11702f1a",
   "metadata": {},
   "outputs": [
    {
     "name": "stdout",
     "output_type": "stream",
     "text": [
      "swadhin swadhin@gmail.com\n"
     ]
    }
   ],
   "source": [
    "college.student_deatails()"
   ]
  },
  {
   "cell_type": "code",
   "execution_count": 8,
   "id": "09abfbf9",
   "metadata": {},
   "outputs": [],
   "source": [
    "# Using class method\n",
    "class college1:\n",
    "    def __init__(self,name,email):\n",
    "        self.name=name\n",
    "        self.email=email\n",
    "    @classmethod\n",
    "    def dtls(cls,name,email):\n",
    "        return cls(name,email)\n",
    "    \n",
    "    def student_deatails(self):\n",
    "        print(self.name,self.email)"
   ]
  },
  {
   "cell_type": "code",
   "execution_count": 9,
   "id": "553207dd",
   "metadata": {},
   "outputs": [
    {
     "data": {
      "text/plain": [
       "<__main__.college1 at 0x1cb86705cc0>"
      ]
     },
     "execution_count": 9,
     "metadata": {},
     "output_type": "execute_result"
    }
   ],
   "source": [
    "# passing the data\n",
    "college1.dtls(\"Swadhin\",\"Swadhingyanajyoti@gmail.com\")"
   ]
  },
  {
   "cell_type": "code",
   "execution_count": 10,
   "id": "886cc976",
   "metadata": {},
   "outputs": [],
   "source": [
    "col1=college1.dtls(\"Swadhin\",\"Swadhingyanajyoti@gmail.com\")"
   ]
  },
  {
   "cell_type": "code",
   "execution_count": 12,
   "id": "ead48eae",
   "metadata": {},
   "outputs": [
    {
     "data": {
      "text/plain": [
       "'Swadhin'"
      ]
     },
     "execution_count": 12,
     "metadata": {},
     "output_type": "execute_result"
    }
   ],
   "source": [
    "col1.name"
   ]
  },
  {
   "cell_type": "code",
   "execution_count": 13,
   "id": "63a94a92",
   "metadata": {},
   "outputs": [
    {
     "data": {
      "text/plain": [
       "'Swadhingyanajyoti@gmail.com'"
      ]
     },
     "execution_count": 13,
     "metadata": {},
     "output_type": "execute_result"
    }
   ],
   "source": [
    "col1.email"
   ]
  },
  {
   "cell_type": "code",
   "execution_count": 19,
   "id": "7f547bb0",
   "metadata": {},
   "outputs": [],
   "source": [
    "class college2:\n",
    "    mobile_number=668986812\n",
    "    def __init__(self,name,email):\n",
    "        self.name=name\n",
    "        self.email=email\n",
    "    @classmethod\n",
    "    def change_number(cls,mobile):\n",
    "        college2.mobile_number=mobile\n",
    "    @classmethod\n",
    "    def dtls(cls,name,email):\n",
    "        return cls(name,email)\n",
    "    \n",
    "    def student_deatails(self):\n",
    "        print(self.name,self.email)"
   ]
  },
  {
   "cell_type": "code",
   "execution_count": 15,
   "id": "ea2eeba9",
   "metadata": {},
   "outputs": [
    {
     "data": {
      "text/plain": [
       "668986812"
      ]
     },
     "execution_count": 15,
     "metadata": {},
     "output_type": "execute_result"
    }
   ],
   "source": [
    "college2.mobile_number"
   ]
  },
  {
   "cell_type": "code",
   "execution_count": 20,
   "id": "ace48569",
   "metadata": {},
   "outputs": [],
   "source": [
    "college2.change_number(9808007070)"
   ]
  },
  {
   "cell_type": "code",
   "execution_count": 21,
   "id": "f17eea1d",
   "metadata": {},
   "outputs": [
    {
     "data": {
      "text/plain": [
       "9808007070"
      ]
     },
     "execution_count": 21,
     "metadata": {},
     "output_type": "execute_result"
    }
   ],
   "source": [
    "college2.mobile_number"
   ]
  },
  {
   "cell_type": "code",
   "execution_count": 22,
   "id": "44bebe47",
   "metadata": {},
   "outputs": [],
   "source": [
    "col2_obj=college2(\"swa\",\"swa@gmail.com\")"
   ]
  },
  {
   "cell_type": "code",
   "execution_count": 25,
   "id": "7029dcde",
   "metadata": {},
   "outputs": [
    {
     "data": {
      "text/plain": [
       "<__main__.college2 at 0x1cb879f0100>"
      ]
     },
     "execution_count": 25,
     "metadata": {},
     "output_type": "execute_result"
    }
   ],
   "source": [
    "col2_obj.dtls(\"swa\",\"swa.coom\")"
   ]
  },
  {
   "cell_type": "code",
   "execution_count": 26,
   "id": "f81a557a",
   "metadata": {},
   "outputs": [
    {
     "data": {
      "text/plain": [
       "'swa'"
      ]
     },
     "execution_count": 26,
     "metadata": {},
     "output_type": "execute_result"
    }
   ],
   "source": [
    "col2_obj.name"
   ]
  },
  {
   "cell_type": "code",
   "execution_count": 27,
   "id": "e450e74a",
   "metadata": {},
   "outputs": [
    {
     "data": {
      "text/plain": [
       "'swa@gmail.com'"
      ]
     },
     "execution_count": 27,
     "metadata": {},
     "output_type": "execute_result"
    }
   ],
   "source": [
    "col2_obj.email"
   ]
  },
  {
   "cell_type": "code",
   "execution_count": 30,
   "id": "bf49427b",
   "metadata": {},
   "outputs": [],
   "source": [
    "col2_obj.change_number(6785784902002)"
   ]
  },
  {
   "cell_type": "code",
   "execution_count": 32,
   "id": "6d70fcb5",
   "metadata": {},
   "outputs": [],
   "source": [
    "class college3:\n",
    "    mobile_number=668986812\n",
    "    def __init__(self,name,email):\n",
    "        self.name=name\n",
    "        self.email=email\n",
    "    @classmethod\n",
    "    def change_number(cls,mobile):\n",
    "        college2.mobile_number=mobile\n",
    "    @classmethod\n",
    "    def dtls(cls,name,email):\n",
    "        return cls(name,email)\n",
    "    \n",
    "    def student_deatails(self):\n",
    "        print(self.name,self.email)"
   ]
  },
  {
   "cell_type": "code",
   "execution_count": 31,
   "id": "52cce954",
   "metadata": {},
   "outputs": [],
   "source": [
    "def course_details(cls,course_name):\n",
    "    print(\"Course Deatails \",course_name)"
   ]
  },
  {
   "cell_type": "code",
   "execution_count": 33,
   "id": "71b8d57a",
   "metadata": {},
   "outputs": [],
   "source": [
    "# Adding new funtion\n",
    "college3.ccourse_details=classmethod(course_details)"
   ]
  },
  {
   "cell_type": "code",
   "execution_count": 35,
   "id": "201f4110",
   "metadata": {},
   "outputs": [
    {
     "name": "stdout",
     "output_type": "stream",
     "text": [
      "Course Deatails  DSM\n"
     ]
    }
   ],
   "source": [
    "college3.ccourse_details(\"DSM\")"
   ]
  },
  {
   "cell_type": "code",
   "execution_count": 36,
   "id": "4ba67b69",
   "metadata": {},
   "outputs": [],
   "source": [
    "col3=college3(\"gulu\",\"gulu@gmail.com\")"
   ]
  },
  {
   "cell_type": "code",
   "execution_count": 37,
   "id": "cc2bc911",
   "metadata": {},
   "outputs": [
    {
     "data": {
      "text/plain": [
       "<bound method course_details of <class '__main__.college3'>>"
      ]
     },
     "execution_count": 37,
     "metadata": {},
     "output_type": "execute_result"
    }
   ],
   "source": [
    "col3.ccourse_details"
   ]
  },
  {
   "cell_type": "code",
   "execution_count": 38,
   "id": "9aa95c38",
   "metadata": {},
   "outputs": [
    {
     "data": {
      "text/plain": [
       "'gulu'"
      ]
     },
     "execution_count": 38,
     "metadata": {},
     "output_type": "execute_result"
    }
   ],
   "source": [
    "col3.name"
   ]
  },
  {
   "cell_type": "code",
   "execution_count": 39,
   "id": "8989969d",
   "metadata": {},
   "outputs": [
    {
     "data": {
      "text/plain": [
       "'gulu@gmail.com'"
      ]
     },
     "execution_count": 39,
     "metadata": {},
     "output_type": "execute_result"
    }
   ],
   "source": [
    "col3.email"
   ]
  },
  {
   "cell_type": "code",
   "execution_count": 40,
   "id": "aa361686",
   "metadata": {},
   "outputs": [],
   "source": [
    "class college4:\n",
    "    mobile_number=668986812\n",
    "    def __init__(self,name,email):\n",
    "        self.name=name\n",
    "        self.email=email\n",
    "    @classmethod\n",
    "    def change_number(cls,mobile):\n",
    "        college2.mobile_number=mobile\n",
    "    @classmethod\n",
    "    def dtls(cls,name,email):\n",
    "        return cls(name,email)\n",
    "    \n",
    "    def student_deatails(self):\n",
    "        print(self.name,self.email)"
   ]
  },
  {
   "cell_type": "code",
   "execution_count": 41,
   "id": "e7321a0f",
   "metadata": {},
   "outputs": [],
   "source": [
    "# Deleting Function\n",
    "del college4.change_number"
   ]
  },
  {
   "cell_type": "code",
   "execution_count": null,
   "id": "eb572594",
   "metadata": {},
   "outputs": [],
   "source": []
  },
  {
   "cell_type": "code",
   "execution_count": null,
   "id": "9e8816f4",
   "metadata": {},
   "outputs": [],
   "source": []
  },
  {
   "cell_type": "code",
   "execution_count": null,
   "id": "730d4ee8",
   "metadata": {},
   "outputs": [],
   "source": []
  }
 ],
 "metadata": {
  "kernelspec": {
   "display_name": "Python 3 (ipykernel)",
   "language": "python",
   "name": "python3"
  },
  "language_info": {
   "codemirror_mode": {
    "name": "ipython",
    "version": 3
   },
   "file_extension": ".py",
   "mimetype": "text/x-python",
   "name": "python",
   "nbconvert_exporter": "python",
   "pygments_lexer": "ipython3",
   "version": "3.10.9"
  }
 },
 "nbformat": 4,
 "nbformat_minor": 5
}
